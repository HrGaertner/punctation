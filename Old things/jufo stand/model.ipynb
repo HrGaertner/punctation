{
 "cells": [
  {
   "cell_type": "markdown",
   "metadata": {},
   "source": [
    "# Wie funktioniert unser Programm?      \n",
    "#   \n",
    "   \n",
    "- Importieren benötigter Module (Code der uns viel Arbeit abnimmt)\n",
    "- Laden des von uns trainierten KNN (künstliches neuronales Netz. Später mehr)"
   ]
  },
  {
   "cell_type": "code",
   "execution_count": 1,
   "metadata": {},
   "outputs": [
    {
     "name": "stderr",
     "output_type": "stream",
     "text": [
      "/home/jonathan/.local/lib/python3.7/site-packages/tensorflow/python/framework/dtypes.py:516: FutureWarning: Passing (type, 1) or '1type' as a synonym of type is deprecated; in a future version of numpy, it will be understood as (type, (1,)) / '(1,)type'.\n",
      "  _np_qint8 = np.dtype([(\"qint8\", np.int8, 1)])\n",
      "/home/jonathan/.local/lib/python3.7/site-packages/tensorflow/python/framework/dtypes.py:517: FutureWarning: Passing (type, 1) or '1type' as a synonym of type is deprecated; in a future version of numpy, it will be understood as (type, (1,)) / '(1,)type'.\n",
      "  _np_quint8 = np.dtype([(\"quint8\", np.uint8, 1)])\n",
      "/home/jonathan/.local/lib/python3.7/site-packages/tensorflow/python/framework/dtypes.py:518: FutureWarning: Passing (type, 1) or '1type' as a synonym of type is deprecated; in a future version of numpy, it will be understood as (type, (1,)) / '(1,)type'.\n",
      "  _np_qint16 = np.dtype([(\"qint16\", np.int16, 1)])\n",
      "/home/jonathan/.local/lib/python3.7/site-packages/tensorflow/python/framework/dtypes.py:519: FutureWarning: Passing (type, 1) or '1type' as a synonym of type is deprecated; in a future version of numpy, it will be understood as (type, (1,)) / '(1,)type'.\n",
      "  _np_quint16 = np.dtype([(\"quint16\", np.uint16, 1)])\n",
      "/home/jonathan/.local/lib/python3.7/site-packages/tensorflow/python/framework/dtypes.py:520: FutureWarning: Passing (type, 1) or '1type' as a synonym of type is deprecated; in a future version of numpy, it will be understood as (type, (1,)) / '(1,)type'.\n",
      "  _np_qint32 = np.dtype([(\"qint32\", np.int32, 1)])\n",
      "/home/jonathan/.local/lib/python3.7/site-packages/tensorflow/python/framework/dtypes.py:525: FutureWarning: Passing (type, 1) or '1type' as a synonym of type is deprecated; in a future version of numpy, it will be understood as (type, (1,)) / '(1,)type'.\n",
      "  np_resource = np.dtype([(\"resource\", np.ubyte, 1)])\n",
      "/home/jonathan/.local/lib/python3.7/site-packages/tensorboard/compat/tensorflow_stub/dtypes.py:541: FutureWarning: Passing (type, 1) or '1type' as a synonym of type is deprecated; in a future version of numpy, it will be understood as (type, (1,)) / '(1,)type'.\n",
      "  _np_qint8 = np.dtype([(\"qint8\", np.int8, 1)])\n",
      "/home/jonathan/.local/lib/python3.7/site-packages/tensorboard/compat/tensorflow_stub/dtypes.py:542: FutureWarning: Passing (type, 1) or '1type' as a synonym of type is deprecated; in a future version of numpy, it will be understood as (type, (1,)) / '(1,)type'.\n",
      "  _np_quint8 = np.dtype([(\"quint8\", np.uint8, 1)])\n",
      "/home/jonathan/.local/lib/python3.7/site-packages/tensorboard/compat/tensorflow_stub/dtypes.py:543: FutureWarning: Passing (type, 1) or '1type' as a synonym of type is deprecated; in a future version of numpy, it will be understood as (type, (1,)) / '(1,)type'.\n",
      "  _np_qint16 = np.dtype([(\"qint16\", np.int16, 1)])\n",
      "/home/jonathan/.local/lib/python3.7/site-packages/tensorboard/compat/tensorflow_stub/dtypes.py:544: FutureWarning: Passing (type, 1) or '1type' as a synonym of type is deprecated; in a future version of numpy, it will be understood as (type, (1,)) / '(1,)type'.\n",
      "  _np_quint16 = np.dtype([(\"quint16\", np.uint16, 1)])\n",
      "/home/jonathan/.local/lib/python3.7/site-packages/tensorboard/compat/tensorflow_stub/dtypes.py:545: FutureWarning: Passing (type, 1) or '1type' as a synonym of type is deprecated; in a future version of numpy, it will be understood as (type, (1,)) / '(1,)type'.\n",
      "  _np_qint32 = np.dtype([(\"qint32\", np.int32, 1)])\n",
      "/home/jonathan/.local/lib/python3.7/site-packages/tensorboard/compat/tensorflow_stub/dtypes.py:550: FutureWarning: Passing (type, 1) or '1type' as a synonym of type is deprecated; in a future version of numpy, it will be understood as (type, (1,)) / '(1,)type'.\n",
      "  np_resource = np.dtype([(\"resource\", np.ubyte, 1)])\n"
     ]
    },
    {
     "name": "stdout",
     "output_type": "stream",
     "text": [
      "WARNING:tensorflow:From /home/jonathan/.local/lib/python3.7/site-packages/tensorflow/python/keras/initializers.py:119: calling RandomUniform.__init__ (from tensorflow.python.ops.init_ops) with dtype is deprecated and will be removed in a future version.\n",
      "Instructions for updating:\n",
      "Call initializer instance with the dtype argument instead of passing it to the constructor\n",
      "WARNING:tensorflow:From /home/jonathan/.local/lib/python3.7/site-packages/tensorflow/python/ops/init_ops.py:97: calling GlorotUniform.__init__ (from tensorflow.python.ops.init_ops) with dtype is deprecated and will be removed in a future version.\n",
      "Instructions for updating:\n",
      "Call initializer instance with the dtype argument instead of passing it to the constructor\n",
      "WARNING:tensorflow:From /home/jonathan/.local/lib/python3.7/site-packages/tensorflow/python/ops/init_ops.py:1251: calling VarianceScaling.__init__ (from tensorflow.python.ops.init_ops) with dtype is deprecated and will be removed in a future version.\n",
      "Instructions for updating:\n",
      "Call initializer instance with the dtype argument instead of passing it to the constructor\n",
      "WARNING:tensorflow:From /home/jonathan/.local/lib/python3.7/site-packages/tensorflow/python/ops/init_ops.py:97: calling Orthogonal.__init__ (from tensorflow.python.ops.init_ops) with dtype is deprecated and will be removed in a future version.\n",
      "Instructions for updating:\n",
      "Call initializer instance with the dtype argument instead of passing it to the constructor\n",
      "WARNING:tensorflow:From /home/jonathan/.local/lib/python3.7/site-packages/tensorflow/python/ops/init_ops.py:97: calling Zeros.__init__ (from tensorflow.python.ops.init_ops) with dtype is deprecated and will be removed in a future version.\n",
      "Instructions for updating:\n",
      "Call initializer instance with the dtype argument instead of passing it to the constructor\n",
      "Model: \"model\"\n",
      "_________________________________________________________________\n",
      "Layer (type)                 Output Shape              Param #   \n",
      "=================================================================\n",
      "lstm_input (InputLayer)      [(None, 40)]              0         \n",
      "_________________________________________________________________\n",
      "lstm_embedding (Embedding)   (None, 40, 128)           7040      \n",
      "_________________________________________________________________\n",
      "lstm (LSTM)                  (None, 128)               131584    \n",
      "_________________________________________________________________\n",
      "lstm_predictions (Dense)     (None, 40)                5160      \n",
      "=================================================================\n",
      "Total params: 143,784\n",
      "Trainable params: 143,784\n",
      "Non-trainable params: 0\n",
      "_________________________________________________________________\n"
     ]
    }
   ],
   "source": [
    "from tensorflow.keras.models import load_model#Importing needed Modules\n",
    "import pickle\n",
    "import nltk\n",
    "import numpy as np\n",
    "\n",
    "model = load_model(\"punctation_lib/punctator\")\n",
    "model.load_weights(\"punctation_lib/punctator.h5\")\n",
    "\n",
    "model.summary()"
   ]
  },
  {
   "cell_type": "markdown",
   "metadata": {},
   "source": [
    "&uarr; So sieht der Aufbau unseres KNN aus.\n",
    "\n",
    "Machen wir uns mal einen Beispiel Satz:\n",
    "\n",
    "Diesen Tokenisieren wir dann, dass heißt wir zerlegen ihn in Wortstücke"
   ]
  },
  {
   "cell_type": "code",
   "execution_count": 28,
   "metadata": {},
   "outputs": [
    {
     "name": "stdout",
     "output_type": "stream",
     "text": [
      "So sieht der Satz tokenisiert aus: ['Das', 'ist', 'ein', 'Beispiel', 'Satz', 'hier', 'kommt', 'noch', 'ein', 'Satz', 'schauen', 'wir', 'mal', 'ob', 'die', 'Punkte', 'erkannt', 'werden']\n"
     ]
    }
   ],
   "source": [
    "satz = \"Das ist ein Beispiel Satz hier kommt noch ein Satz schauen wir mal ob die Punkte erkannt werden\"\n",
    "\n",
    "satz = nltk.word_tokenize(satz, \"german\")\n",
    "print(\"So sieht der Satz tokenisiert aus: \" + str(satz))"
   ]
  },
  {
   "cell_type": "markdown",
   "metadata": {},
   "source": [
    "Jetzt kommt ein sehr wichtiger Punkt wir wandeln den Satz erst in seine Satzbausteine (Adjektiv, Verb, ...) um. Das nennt man taggen. Dann wandeln wir die Ausgabe in Zahlen um damit unser Modell damit rechnen kann"
   ]
  },
  {
   "cell_type": "code",
   "execution_count": 29,
   "metadata": {},
   "outputs": [
    {
     "name": "stdout",
     "output_type": "stream",
     "text": [
      "Die Satzbausteine: [('Das', 'ART'), ('ist', 'VAFIN'), ('ein', 'ART'), ('Beispiel', 'NN'), ('Satz', 'NN'), ('hier', 'ADV'), ('kommt', 'VVFIN'), ('noch', 'ADV'), ('ein', 'ART'), ('Satz', 'NN'), ('schauen', 'VVINF'), ('wir', 'PPER'), ('mal', 'ADV'), ('ob', 'KOUS'), ('die', 'ART'), ('Punkte', 'NN'), ('erkannt', 'VVPP'), ('werden', 'VAINF')]\n",
      "\n",
      "Die resultierenden Nummern: [28, 41, 28, 29, 29, 14, 20, 14, 28, 29, 31, 0, 14, 36, 28, 29, 26, 22]\n"
     ]
    }
   ],
   "source": [
    "ausgabe = satz#Für später um die Punkte einzusetzen\n",
    "with open('ClassifierBasedGermanTagger/germanTagger.pickle', 'rb') as f: #Das Modul zum \"taggen\"\n",
    "        tagger = pickle.load(f)\n",
    "satz = tagger.tag(satz)\n",
    "print(\"Die Satzbausteine: \" + str(satz))\n",
    "tag_set = ['PPER', 'APPRART', 'PWS', 'NE', 'PRELS', 'KOKOM', 'PIAT', 'CARD', 'VMINF', 'PIS', 'XY', 'PTKANT',\n",
    "           'PTKNEG', 'APPR', 'ADV', 'KON', 'VMFIN', 'APZR', 'ADJD', 'PDS', 'VVFIN', 'PRF', 'VAINF', 'ADJA', '$.',\n",
    "           'TRUNC', 'VVPP', 'PDAT', 'ART', 'NN', 'PPOSAT', 'VVINF', '$(', 'VAPP', '$,', 'PWAV', 'KOUS', 'KOUI',\n",
    "           'FM', 'VVIZU', 'VVIMP', 'VAFIN', 'PTKZU', 'PTKVZ', 'PROAV', 'VAIMP', 'NNE', 'PWAT', 'APPO', 'ITJ',\n",
    "           'PRELAT', 'VMPP', 'PPOSS', 'PTKA', 'NULL']\n",
    "#Das sind alle Textbausteine die Abkürzungen findet man auf der Website der Uni Stuttgart\n",
    "tag_sen = []\n",
    "for sen_tag in satz:\n",
    "    if sen_tag[1] in tag_set:\n",
    "        tag_sen.append(tag_set.index(sen_tag[1]))#Umwandlung in Nummern\n",
    "print()#Leerzeile für Formatierung\n",
    "print(\"Die resultierenden Nummern: \" + str(tag_sen))"
   ]
  },
  {
   "cell_type": "markdown",
   "metadata": {},
   "source": [
    "Da unser Satz weniger als 40 Wörter hat müssen wir diesen array nur noch so ergenzen das er 40 Elemente hat:(Wer wissen will wie es mit mehr als 40 Wörtern funktioniert schaut sich bitte unsere github Seite an)"
   ]
  },
  {
   "cell_type": "code",
   "execution_count": 30,
   "metadata": {},
   "outputs": [
    {
     "name": "stdout",
     "output_type": "stream",
     "text": [
      "Länge des Arrays: 40\n",
      "\n",
      "Der ganze Array: [28, 41, 28, 29, 29, 14, 20, 14, 28, 29, 31, 0, 14, 36, 28, 29, 26, 22, 54, 54, 54, 54, 54, 54, 54, 54, 54, 54, 54, 54, 54, 54, 54, 54, 54, 54, 54, 54, 54, 54]\n"
     ]
    }
   ],
   "source": [
    "while len(tag_sen) % 40 != 0:  # Bis es keinen Rest beim durch 40 teilen gibt\n",
    "    tag_sen.append(54) #Equavavilent zu dem NULL tag\n",
    "\n",
    "print(\"Länge des Arrays: \" + str(len(tag_sen)))\n",
    "print()\n",
    "print(\"Der ganze Array: \" + str(tag_sen))"
   ]
  },
  {
   "cell_type": "markdown",
   "metadata": {},
   "source": [
    "Das können wir jetzt einfach in unser KNN eingeben da nimmt uns tensorflow die ganze Arbeit ab. Wir müssen nur den Satz (tag_sen) zweimal nehemen, weil unser KNN das vom Training \"gewöhnt\" ist. Um zu verstehen wie unser KNN  aufgebaut ist lesen Sie bitte das entsprechende Plakat"
   ]
  },
  {
   "cell_type": "code",
   "execution_count": 31,
   "metadata": {},
   "outputs": [
    {
     "name": "stdout",
     "output_type": "stream",
     "text": [
      "Die Ausgabe des KNN: [0.15349647 0.19199911 0.23071742 0.18247968 0.18456912 0.1439578\n",
      " 0.1459465  0.10394245 0.10377932 0.12534562 0.157808   0.1857554\n",
      " 0.26473033 0.3548991  0.50904894 0.65849626 0.80727315 0.8375044\n",
      " 0.807189   0.63716125 0.44110548 0.23494288 0.1601592  0.24967259\n",
      " 0.3936718  0.6363497  0.7676647  0.7098882  0.6000732  0.4100883\n",
      " 0.32170045 0.41351205 0.52559984 0.6054048  0.5426147  0.3909998\n",
      " 0.4238664  0.5235547  0.32792968 0.01355103]\n"
     ]
    }
   ],
   "source": [
    "model_prepared = np.array([tag_sen, tag_sen])\n",
    "vec = model.predict(model_prepared)[0]#In vec ist die Ausgabe des KNN gespeichert\n",
    "print(\"Die Ausgabe des KNN: \" + str(vec))"
   ]
  },
  {
   "cell_type": "markdown",
   "metadata": {},
   "source": [
    "Jetzt werden wir überall wo mehr als 50% an Wahrscheinlichkeit sind einen Punkt setzten"
   ]
  },
  {
   "cell_type": "code",
   "execution_count": 32,
   "metadata": {},
   "outputs": [
    {
     "name": "stdout",
     "output_type": "stream",
     "text": [
      "So sieht es als array aus:  ['Das', 'ist', 'ein', 'Beispiel', 'Satz', 'hier', 'kommt', 'noch', 'ein', 'Satz', 'schauen', 'wir', 'mal', 'ob.', 'Die.', 'Punkte.', 'Erkannt.', 'Werden.']\n",
      "\n",
      "Und so als normaler Satz:  Das ist ein Beispiel Satz hier kommt noch ein Satz schauen wir mal ob. Die. Punkte. Erkannt. Werden.\n"
     ]
    }
   ],
   "source": [
    "for iter in range(0, len(vec)):\n",
    "    if vec[iter] >= 0.5 and tag_sen[iter] != 54:\n",
    "        ausgabe[iter - 1] = ausgabe[iter- 1] + \".\"\n",
    "        ausgabe[iter] = ausgabe[iter][0].upper() + ausgabe[iter][1:]\n",
    "ausgabe[-1] = ausgabe[-1] + \".\"\n",
    "print(\"So sieht es als array aus: \", str(ausgabe))\n",
    "ausgabe = ' '.join(ausgabe)\n",
    "print()\n",
    "print(\"Und so als normaler Satz: \", str(ausgabe))"
   ]
  },
  {
   "cell_type": "markdown",
   "metadata": {},
   "source": [
    "Wenn Sie jetzt aufgepasst haben ist ihnen sicher aufgefallen das wir die Satzanfänge und nicht die Satzenden aus dem KNN bekommen haben. Tatsächlich liefen die KNNs die Satzanfänge gefunden haben einfach besser, als die anderen. Das heißt für unser LSTM kann besser Satzanfänge, als Satzenden finden"
   ]
  }
 ],
 "metadata": {
  "kernelspec": {
   "display_name": "Python 3",
   "language": "python",
   "name": "python3"
  },
  "language_info": {
   "codemirror_mode": {
    "name": "ipython",
    "version": 3
   },
   "file_extension": ".py",
   "mimetype": "text/x-python",
   "name": "python",
   "nbconvert_exporter": "python",
   "pygments_lexer": "ipython3",
   "version": "3.7.5"
  }
 },
 "nbformat": 4,
 "nbformat_minor": 2
}
